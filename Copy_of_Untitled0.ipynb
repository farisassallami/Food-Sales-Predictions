{
  "nbformat": 4,
  "nbformat_minor": 0,
  "metadata": {
    "colab": {
      "provenance": [],
      "authorship_tag": "ABX9TyOQmoPn1M0vCy5JWMBigrZQ",
      "include_colab_link": true
    },
    "kernelspec": {
      "name": "python3",
      "display_name": "Python 3"
    },
    "language_info": {
      "name": "python"
    }
  },
  "cells": [
    {
      "cell_type": "markdown",
      "metadata": {
        "id": "view-in-github",
        "colab_type": "text"
      },
      "source": [
        "<a href=\"https://colab.research.google.com/github/farisassallami/Food-Sales-Predictions/blob/main/Copy_of_Untitled0.ipynb\" target=\"_parent\"><img src=\"https://colab.research.google.com/assets/colab-badge.svg\" alt=\"Open In Colab\"/></a>"
      ]
    },
    {
      "cell_type": "markdown",
      "source": [
        "# Food-Sales-Predictions\n",
        "- *Faris Assallami*"
      ],
      "metadata": {
        "id": "OmXUO5mSmhBR"
      }
    },
    {
      "cell_type": "markdown",
      "source": [
        "# Project 1 - Part 1"
      ],
      "metadata": {
        "id": "KpjXBCAAmprZ"
      }
    },
    {
      "cell_type": "markdown",
      "source": [
        "## Loading Data"
      ],
      "metadata": {
        "id": "SW6xtEpjmp2P"
      }
    },
    {
      "cell_type": "code",
      "source": [],
      "metadata": {
        "id": "E-hdm17hnGcY"
      },
      "execution_count": null,
      "outputs": []
    },
    {
      "cell_type": "markdown",
      "source": [
        "## Data Cleaning"
      ],
      "metadata": {
        "id": "FIQTrjWUmqDA"
      }
    },
    {
      "cell_type": "code",
      "source": [],
      "metadata": {
        "id": "9ZIEs-GFnHGC"
      },
      "execution_count": null,
      "outputs": []
    },
    {
      "cell_type": "markdown",
      "source": [
        "## Explanatory Visuals"
      ],
      "metadata": {
        "id": "rssdZ2yzmqNy"
      }
    },
    {
      "cell_type": "code",
      "source": [],
      "metadata": {
        "id": "RqUmL80HnHrW"
      },
      "execution_count": null,
      "outputs": []
    },
    {
      "cell_type": "markdown",
      "source": [
        "## Explanatory Visuals"
      ],
      "metadata": {
        "id": "j_ubAo0BmqXX"
      }
    },
    {
      "cell_type": "code",
      "source": [],
      "metadata": {
        "id": "CfIg0zXonIcx"
      },
      "execution_count": null,
      "outputs": []
    }
  ]
}