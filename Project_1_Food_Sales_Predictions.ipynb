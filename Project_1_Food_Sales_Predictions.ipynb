{
  "nbformat": 4,
  "nbformat_minor": 0,
  "metadata": {
    "colab": {
      "provenance": [],
      "authorship_tag": "ABX9TyNsgfraQ1lHSTrS36QEiWFH",
      "include_colab_link": true
    },
    "kernelspec": {
      "name": "python3",
      "display_name": "Python 3"
    },
    "language_info": {
      "name": "python"
    }
  },
  "cells": [
    {
      "cell_type": "markdown",
      "metadata": {
        "id": "view-in-github",
        "colab_type": "text"
      },
      "source": [
        "<a href=\"https://colab.research.google.com/github/farisassallami/Food-Sales-Predictions/blob/main/Project_1_Food_Sales_Predictions.ipynb\" target=\"_parent\"><img src=\"https://colab.research.google.com/assets/colab-badge.svg\" alt=\"Open In Colab\"/></a>"
      ]
    },
    {
      "cell_type": "markdown",
      "source": [
        "# Food-Sales-Predictions\n",
        "- *Faris Assallami*"
      ],
      "metadata": {
        "id": "OmXUO5mSmhBR"
      }
    },
    {
      "cell_type": "markdown",
      "source": [
        "# Project 1 - Part 1"
      ],
      "metadata": {
        "id": "KpjXBCAAmprZ"
      }
    },
    {
      "cell_type": "markdown",
      "source": [
        "## Loading Data"
      ],
      "metadata": {
        "id": "SW6xtEpjmp2P"
      }
    },
    {
      "cell_type": "code",
      "source": [
        "\n",
        "from google.colab import drive\n",
        "drive.mount('/content/drive')\n",
        "import pandas as pd\n",
        "import matplotlib.pyplot as plt\n",
        "import seaborn as sns\n",
        "import numpy as np\n",
        "\n",
        "df = pd.read_csv('/content/sales_predictions.csv')\n",
        "df.info()\n",
        "df.head()\n",
        "\n",
        "print(df.isna().sum())"
      ],
      "metadata": {
        "id": "E-hdm17hnGcY",
        "colab": {
          "base_uri": "https://localhost:8080/"
        },
        "outputId": "7d5b6921-39df-40d2-ea86-0c40ccc1efab"
      },
      "execution_count": null,
      "outputs": [
        {
          "output_type": "stream",
          "name": "stdout",
          "text": [
            "Drive already mounted at /content/drive; to attempt to forcibly remount, call drive.mount(\"/content/drive\", force_remount=True).\n",
            "<class 'pandas.core.frame.DataFrame'>\n",
            "RangeIndex: 8523 entries, 0 to 8522\n",
            "Data columns (total 12 columns):\n",
            " #   Column                     Non-Null Count  Dtype  \n",
            "---  ------                     --------------  -----  \n",
            " 0   Item_Identifier            8523 non-null   object \n",
            " 1   Item_Weight                7060 non-null   float64\n",
            " 2   Item_Fat_Content           8523 non-null   object \n",
            " 3   Item_Visibility            8523 non-null   float64\n",
            " 4   Item_Type                  8523 non-null   object \n",
            " 5   Item_MRP                   8523 non-null   float64\n",
            " 6   Outlet_Identifier          8523 non-null   object \n",
            " 7   Outlet_Establishment_Year  8523 non-null   int64  \n",
            " 8   Outlet_Size                6113 non-null   object \n",
            " 9   Outlet_Location_Type       8523 non-null   object \n",
            " 10  Outlet_Type                8523 non-null   object \n",
            " 11  Item_Outlet_Sales          8523 non-null   float64\n",
            "dtypes: float64(4), int64(1), object(7)\n",
            "memory usage: 799.2+ KB\n",
            "Item_Identifier                 0\n",
            "Item_Weight                  1463\n",
            "Item_Fat_Content                0\n",
            "Item_Visibility                 0\n",
            "Item_Type                       0\n",
            "Item_MRP                        0\n",
            "Outlet_Identifier               0\n",
            "Outlet_Establishment_Year       0\n",
            "Outlet_Size                  2410\n",
            "Outlet_Location_Type            0\n",
            "Outlet_Type                     0\n",
            "Item_Outlet_Sales               0\n",
            "dtype: int64\n"
          ]
        }
      ]
    },
    {
      "cell_type": "markdown",
      "source": [
        "## Data Cleaning"
      ],
      "metadata": {
        "id": "FIQTrjWUmqDA"
      }
    },
    {
      "cell_type": "code",
      "source": [
        "# Removing columns that contain irrelevant data\n",
        "df = df.drop(columns=['Item_Identifier', 'Item_Weight','Outlet_Establishment_Year'])\n",
        "\n",
        "print(\"After removing 3 irrelevant columns, there are now 8523 rows and 9 columns left\")\n",
        "print()\n",
        "df.shape\n",
        "df.head()\n"
      ],
      "metadata": {
        "id": "9ZIEs-GFnHGC"
      },
      "execution_count": null,
      "outputs": []
    },
    {
      "cell_type": "code",
      "source": [
        "# Checking to see for duplicate rows.\n",
        "print(df.duplicated().any())\n",
        "print(\"There are no duplicates.\")"
      ],
      "metadata": {
        "id": "jbexMdJShwUd"
      },
      "execution_count": null,
      "outputs": []
    },
    {
      "cell_type": "code",
      "source": [
        "# Checking to for missing data\n",
        "print(df.isna().sum())\n",
        "print()\n",
        "print(\"There are 2410 missing values in the Outlet_Size column \")\n",
        "print()\n",
        "print()\n",
        "df[df.isna().any(axis=1)]\n",
        "print()\n",
        "print()\n",
        "print(df['Outlet_Size'].value_counts())\n",
        "print()\n",
        "print()"
      ],
      "metadata": {
        "id": "pdTk30_rhxXB"
      },
      "execution_count": null,
      "outputs": []
    },
    {
      "cell_type": "code",
      "source": [
        "# Filling in the missing data with the mode value\n",
        "modeSize = str(df[\"Outlet_Size\"].mode())\n",
        "print()\n",
        "df['Outlet_Size'].fillna(value = modeSize, inplace = True)\n",
        "print(modeSize)\n",
        "\n",
        "print(df.isna().sum())\n",
        "print()\n",
        "print(\"The Outlet_Size column no longer has missing values as seen in the chart above.\")"
      ],
      "metadata": {
        "id": "p9oUv_6kh5ex"
      },
      "execution_count": null,
      "outputs": []
    },
    {
      "cell_type": "code",
      "source": [
        "# Checking for inconsistencies  in Fat content column\n",
        "print(df[\"Item_Fat_Content\"].value_counts())\n",
        "print()\n",
        "print(\"--Inconsistent categories found in Item_Fat_Content column.\\n LF and low fat will be corrected to Low Fat, and reg will be corrected to Regular\")\n",
        "print()"
      ],
      "metadata": {
        "id": "J0zMeLirh92p"
      },
      "execution_count": null,
      "outputs": []
    },
    {
      "cell_type": "code",
      "source": [
        "# Replacing inconsistent values with correct value\n",
        "df['Item_Fat_Content'] = df['Item_Fat_Content'].replace('LF', 'Low Fat')\n",
        "df['Item_Fat_Content'] = df['Item_Fat_Content'].replace('low fat', 'Low Fat')\n",
        "\n",
        "df['Item_Fat_Content'] = df['Item_Fat_Content'].replace('reg', 'Regular')\n",
        "\n",
        "print(df[\"Item_Fat_Content\"].value_counts())\n",
        "print()\n",
        "print(\"--All inconsistencies have been corrected.\")"
      ],
      "metadata": {
        "id": "VHHWR_u5iBLy"
      },
      "execution_count": null,
      "outputs": []
    },
    {
      "cell_type": "code",
      "source": [
        "# Statistical description of Data frame.\n",
        "statistics =  df.describe()\n",
        "statistics.loc[['mean','min','max']]"
      ],
      "metadata": {
        "id": "saNkKcV0iHIw"
      },
      "execution_count": null,
      "outputs": []
    },
    {
      "cell_type": "markdown",
      "source": [
        "# Project 1 - Part 2"
      ],
      "metadata": {
        "id": "ewiWYktsihaw"
      }
    },
    {
      "cell_type": "markdown",
      "source": [
        "## Explanatory Visuals"
      ],
      "metadata": {
        "id": "rssdZ2yzmqNy"
      }
    },
    {
      "cell_type": "code",
      "source": [],
      "metadata": {
        "id": "RqUmL80HnHrW"
      },
      "execution_count": null,
      "outputs": []
    },
    {
      "cell_type": "markdown",
      "source": [
        "## Explanatory Visuals"
      ],
      "metadata": {
        "id": "j_ubAo0BmqXX"
      }
    },
    {
      "cell_type": "code",
      "source": [],
      "metadata": {
        "id": "CfIg0zXonIcx"
      },
      "execution_count": null,
      "outputs": []
    }
  ]
}