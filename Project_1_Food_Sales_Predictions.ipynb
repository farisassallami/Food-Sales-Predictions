{
  "nbformat": 4,
  "nbformat_minor": 0,
  "metadata": {
    "colab": {
      "provenance": [],
      "authorship_tag": "ABX9TyPMT4C310cvTUtfOJ/K3fum",
      "include_colab_link": true
    },
    "kernelspec": {
      "name": "python3",
      "display_name": "Python 3"
    },
    "language_info": {
      "name": "python"
    }
  },
  "cells": [
    {
      "cell_type": "markdown",
      "metadata": {
        "id": "view-in-github",
        "colab_type": "text"
      },
      "source": [
        "<a href=\"https://colab.research.google.com/github/farisassallami/Food-Sales-Predictions/blob/main/Project_1_Food_Sales_Predictions.ipynb\" target=\"_parent\"><img src=\"https://colab.research.google.com/assets/colab-badge.svg\" alt=\"Open In Colab\"/></a>"
      ]
    },
    {
      "cell_type": "markdown",
      "source": [
        "# Food-Sales-Predictions\n",
        "- *Faris Assallami*"
      ],
      "metadata": {
        "id": "OmXUO5mSmhBR"
      }
    },
    {
      "cell_type": "markdown",
      "source": [
        "# Project 1 - Part 1"
      ],
      "metadata": {
        "id": "KpjXBCAAmprZ"
      }
    },
    {
      "cell_type": "markdown",
      "source": [
        "## Loading Data"
      ],
      "metadata": {
        "id": "SW6xtEpjmp2P"
      }
    },
    {
      "cell_type": "code",
      "source": [
        "\n",
        "from google.colab import drive\n",
        "drive.mount('/content/drive')\n",
        "import pandas as pd\n",
        "\n",
        "df = pd.read_csv('/content/sales_predictions.csv')\n",
        "df.info()\n",
        "df.head()\n",
        "\n",
        "print(df.isna().sum())"
      ],
      "metadata": {
        "id": "E-hdm17hnGcY"
      },
      "execution_count": null,
      "outputs": []
    },
    {
      "cell_type": "markdown",
      "source": [
        "## Data Cleaning"
      ],
      "metadata": {
        "id": "FIQTrjWUmqDA"
      }
    },
    {
      "cell_type": "code",
      "source": [
        "# Removing columns that contain irrelevant data\n",
        "df = df.drop(columns=['Item_Identifier', 'Item_Weight','Outlet_Establishment_Year'])\n",
        "\n",
        "print(\"After removing 3 irrelevant columns, there are now 8523 rows and 9 columns left\")\n",
        "print()\n",
        "df.shape\n",
        "df.head()\n",
        "\n",
        "print(df.duplicated().any())\n",
        "print(\"There are no duplicates.\")\n",
        "\n",
        "print(df.isna().sum())\n",
        "print()\n",
        "print(\"There are 2410 missing values in the Outlet_Size column \")\n",
        "print()\n",
        "print()\n",
        "df[df.isna().any(axis=1)]\n",
        "print()\n",
        "print()\n",
        "print(df['Outlet_Size'].value_counts())\n",
        "print()\n",
        "print()\n",
        "\n",
        "\n",
        "modeSize = str(df[\"Outlet_Size\"].mode())\n",
        "print()\n",
        "df['Outlet_Size'].fillna(value = modeSize, inplace = True)\n",
        "print(modeSize)\n",
        "\n",
        "print(df.isna().sum())\n",
        "print()\n",
        "print(\"The Outlet_Size column no longer has missing values as seen in the chart above.\")\n",
        "\n",
        "print(df[\"Item_Fat_Content\"].value_counts())\n",
        "print()\n",
        "print(\"--Inconsistent categories fount in Item_Fat_Content column.\\n LF and low fat will be corrected to Low Fat, and reg will be corrected to Regular\")\n",
        "print()\n",
        "\n",
        "df['Item_Fat_Content'] = df['Item_Fat_Content'].replace('LF', 'Low Fat')\n",
        "df['Item_Fat_Content'] = df['Item_Fat_Content'].replace('low fat', 'Low Fat')\n",
        "\n",
        "df['Item_Fat_Content'] = df['Item_Fat_Content'].replace('reg', 'Regular')\n",
        "\n",
        "print(df[\"Item_Fat_Content\"].value_counts())\n",
        "print()\n",
        "print(\"--All inconsistencies have been corrected.\")\n",
        "\n",
        "df\n",
        "\n",
        "statistics =  df.describe()\n",
        "statistics.loc[['mean','min','max']]"
      ],
      "metadata": {
        "id": "9ZIEs-GFnHGC"
      },
      "execution_count": null,
      "outputs": []
    },
    {
      "cell_type": "markdown",
      "source": [
        "## Explanatory Visuals"
      ],
      "metadata": {
        "id": "rssdZ2yzmqNy"
      }
    },
    {
      "cell_type": "code",
      "source": [],
      "metadata": {
        "id": "RqUmL80HnHrW"
      },
      "execution_count": null,
      "outputs": []
    },
    {
      "cell_type": "markdown",
      "source": [
        "## Explanatory Visuals"
      ],
      "metadata": {
        "id": "j_ubAo0BmqXX"
      }
    },
    {
      "cell_type": "code",
      "source": [],
      "metadata": {
        "id": "CfIg0zXonIcx"
      },
      "execution_count": null,
      "outputs": []
    }
  ]
}